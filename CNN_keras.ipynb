{
  "nbformat": 4,
  "nbformat_minor": 0,
  "metadata": {
    "colab": {
      "name": "CNN keras.ipynb",
      "provenance": [],
      "collapsed_sections": []
    },
    "kernelspec": {
      "name": "python3",
      "display_name": "Python 3"
    }
  },
  "cells": [
    {
      "cell_type": "markdown",
      "metadata": {
        "id": "fafKqZB4JCE5"
      },
      "source": [
        "#Convolutional Neural Network with One Convolutional and Pooling Layers"
      ]
    },
    {
      "cell_type": "code",
      "metadata": {
        "id": "kcSkfnXSIfiT"
      },
      "source": [
        "import keras\n",
        "from tensorflow.keras.models import Sequential \n",
        "from keras.layers import Dense\n",
        "from keras.utils import to_categorical  "
      ],
      "execution_count": 57,
      "outputs": []
    },
    {
      "cell_type": "code",
      "metadata": {
        "id": "4bNQmsiwJisG"
      },
      "source": [
        "#for convolution neural network we need to import some libraries\n",
        "\n",
        "from keras.layers.convolutional import Conv2D       #To add convoluted layers\n",
        "from keras.layers.convolutional import MaxPooling2D  #To add pooling layers\n",
        "from keras.layers import Flatten            #to flatten data for fully connected layers "
      ],
      "execution_count": 58,
      "outputs": []
    },
    {
      "cell_type": "markdown",
      "metadata": {
        "id": "s54ZCtBALEyO"
      },
      "source": [
        "###Getting mnist data"
      ]
    },
    {
      "cell_type": "code",
      "metadata": {
        "id": "JRkD2GAaKz2J"
      },
      "source": [
        "from keras.datasets import  mnist\n",
        "\n",
        "#training and testing dataset\n",
        "(X_train,y_train),(X_test,y_test)=mnist.load_data()"
      ],
      "execution_count": 59,
      "outputs": []
    },
    {
      "cell_type": "code",
      "metadata": {
        "id": "WYvRDMEvMiKG",
        "outputId": "72b1ba91-4360-4792-8aeb-8dd639a958b9",
        "colab": {
          "base_uri": "https://localhost:8080/",
          "height": 35
        }
      },
      "source": [
        "X_train.shape,X_test.shape\n",
        "X_train.dtype"
      ],
      "execution_count": 60,
      "outputs": [
        {
          "output_type": "execute_result",
          "data": {
            "text/plain": [
              "dtype('uint8')"
            ]
          },
          "metadata": {
            "tags": []
          },
          "execution_count": 60
        }
      ]
    },
    {
      "cell_type": "code",
      "metadata": {
        "id": "TwIZV3aCL_IH"
      },
      "source": [
        "#reshaping the training and testing layers \n",
        "X_train = X_train.reshape(X_train.shape[0],28,28,1).astype('float32') #converted all the inputs to (28,28,1) dimension\n",
        "X_test = X_test.reshape(X_test.shape[0],28,28,1).astype('float32')    #converted all the test inputs to (28,28,1) dimension"
      ],
      "execution_count": 61,
      "outputs": []
    },
    {
      "cell_type": "code",
      "metadata": {
        "id": "sMrV5-75NpvH"
      },
      "source": [
        "#Normalize the pixel values to be between 0 to 1\n",
        "X_train = X_train/255\n",
        "X_test = X_test/255"
      ],
      "execution_count": 62,
      "outputs": []
    },
    {
      "cell_type": "code",
      "metadata": {
        "id": "5y3NBXCON6dP"
      },
      "source": [
        "#Converting the output to binary categories\n",
        "y_train = to_categorical(y_train)\n",
        "y_test = to_categorical(y_test)\n",
        "num_classes = y_test.shape[1]    #checking the number of classes"
      ],
      "execution_count": 63,
      "outputs": []
    },
    {
      "cell_type": "code",
      "metadata": {
        "id": "LKP5YC1tPX5-"
      },
      "source": [
        "#function to define the layers of CNN(one convoluted and one pooling layer)\n",
        "\"\"\"\n",
        "Created this function because every time we create a model we would specify the layers and compile it before fitting it\n",
        "Input: Call the function\n",
        "Output: it returns the model with the designed layers\n",
        "\"\"\"\n",
        "def convolutional_layer():\n",
        "  model = Sequential()\n",
        "  model.add(Conv2D(16,kernel_size=[5,5],strides=(1,1),activation='relu',input_shape = (28,28,1)))\n",
        "  model.add(MaxPooling2D(pool_size=(2,2),strides=(2,2)))\n",
        "  model.add(Flatten())\n",
        "  model.add(Dense(100,activation='relu'))    #Adding number of neurons in the fully connected neural network hidden layer\n",
        "  model.add(Dense(num_classes,activation='softmax'))   #activation is softmax for multiclass classification\n",
        "\n",
        "  #model compile\n",
        "  model.compile(optimizer = 'adam', loss = 'categorical_crossentropy', metrics = ['accuracy'])\n",
        "  return model"
      ],
      "execution_count": 64,
      "outputs": []
    },
    {
      "cell_type": "code",
      "metadata": {
        "id": "cHrxaAlaUVCm",
        "outputId": "60cee4d5-3035-4966-8c4f-c29393507de6",
        "colab": {
          "base_uri": "https://localhost:8080/",
          "height": 381
        }
      },
      "source": [
        "#fitting the model here\n",
        "model=convolutional_layer()\n",
        "model.fit(X_train, y_train, validation_data=(X_test, y_test), epochs=10, batch_size=200, verbose=2)"
      ],
      "execution_count": 65,
      "outputs": [
        {
          "output_type": "stream",
          "text": [
            "Epoch 1/10\n",
            "300/300 - 18s - loss: 0.2963 - accuracy: 0.9169 - val_loss: 0.1102 - val_accuracy: 0.9664\n",
            "Epoch 2/10\n",
            "300/300 - 18s - loss: 0.0900 - accuracy: 0.9738 - val_loss: 0.0678 - val_accuracy: 0.9791\n",
            "Epoch 3/10\n",
            "300/300 - 18s - loss: 0.0584 - accuracy: 0.9831 - val_loss: 0.0533 - val_accuracy: 0.9837\n",
            "Epoch 4/10\n",
            "300/300 - 18s - loss: 0.0444 - accuracy: 0.9868 - val_loss: 0.0469 - val_accuracy: 0.9852\n",
            "Epoch 5/10\n",
            "300/300 - 18s - loss: 0.0364 - accuracy: 0.9888 - val_loss: 0.0399 - val_accuracy: 0.9874\n",
            "Epoch 6/10\n",
            "300/300 - 18s - loss: 0.0295 - accuracy: 0.9912 - val_loss: 0.0398 - val_accuracy: 0.9873\n",
            "Epoch 7/10\n",
            "300/300 - 18s - loss: 0.0244 - accuracy: 0.9926 - val_loss: 0.0436 - val_accuracy: 0.9856\n",
            "Epoch 8/10\n",
            "300/300 - 18s - loss: 0.0205 - accuracy: 0.9936 - val_loss: 0.0319 - val_accuracy: 0.9905\n",
            "Epoch 9/10\n",
            "300/300 - 18s - loss: 0.0174 - accuracy: 0.9950 - val_loss: 0.0340 - val_accuracy: 0.9894\n",
            "Epoch 10/10\n",
            "300/300 - 18s - loss: 0.0143 - accuracy: 0.9959 - val_loss: 0.0331 - val_accuracy: 0.9898\n"
          ],
          "name": "stdout"
        },
        {
          "output_type": "execute_result",
          "data": {
            "text/plain": [
              "<tensorflow.python.keras.callbacks.History at 0x7f6003385c50>"
            ]
          },
          "metadata": {
            "tags": []
          },
          "execution_count": 65
        }
      ]
    },
    {
      "cell_type": "code",
      "metadata": {
        "id": "9KDgASUyWV6n",
        "outputId": "f4b1c392-5efd-44ef-fbbd-a79a55caf9a8",
        "colab": {
          "base_uri": "https://localhost:8080/",
          "height": 52
        }
      },
      "source": [
        "scores = model.evaluate(X_test,y_test,verbose=0) #verbose= 0 for silent and 1 for progress bar\n",
        "scores\n",
        "print(\"Accuracy : {} \\n Error: {}\".format(scores[1], 1-(scores[1])))   #sharing Accuracy and losses\n"
      ],
      "execution_count": 75,
      "outputs": [
        {
          "output_type": "stream",
          "text": [
            "Accuracy : 0.989799976348877 \n",
            " Error: 0.010200023651123047\n"
          ],
          "name": "stdout"
        }
      ]
    }
  ]
}