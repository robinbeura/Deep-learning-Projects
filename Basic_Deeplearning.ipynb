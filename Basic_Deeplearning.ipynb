{
  "nbformat": 4,
  "nbformat_minor": 0,
  "metadata": {
    "colab": {
      "name": "Basic Deeplearning",
      "provenance": [],
      "collapsed_sections": []
    },
    "kernelspec": {
      "name": "python3",
      "display_name": "Python 3"
    }
  },
  "cells": [
    {
      "cell_type": "markdown",
      "metadata": {
        "id": "1KuqGD3y1C32",
        "colab_type": "text"
      },
      "source": [
        "#Feed forward network in Python"
      ]
    },
    {
      "cell_type": "code",
      "metadata": {
        "id": "gLmm5xN1YyYw",
        "colab_type": "code",
        "colab": {
          "base_uri": "https://localhost:8080/",
          "height": 35
        },
        "outputId": "5c67e65c-339c-4739-9bd7-1bc0af55db94"
      },
      "source": [
        "import numpy as np\n",
        "weights = np.around(np.random.uniform(size=6), decimals =2)\n",
        "bias = np.around(np.random.uniform(size = 3),decimals = 2)\n",
        "weights,bias"
      ],
      "execution_count": null,
      "outputs": [
        {
          "output_type": "execute_result",
          "data": {
            "text/plain": [
              "(array([0.75, 0.58, 0.13, 0.9 , 0.81, 0.75]), array([0.2 , 0.71, 0.82]))"
            ]
          },
          "metadata": {
            "tags": []
          },
          "execution_count": 1
        }
      ]
    },
    {
      "cell_type": "code",
      "metadata": {
        "id": "UIol8e2RatZ7",
        "colab_type": "code",
        "colab": {}
      },
      "source": [
        "x1 = 0.5   #first input\n",
        "x2 = 0.85  #second input"
      ],
      "execution_count": null,
      "outputs": []
    },
    {
      "cell_type": "code",
      "metadata": {
        "id": "ducNx5_Wa5tA",
        "colab_type": "code",
        "colab": {}
      },
      "source": [
        "z11 = x1*weights[0]+x2*weights[1] + bias[0]\n",
        "z12 = x1*weights[2]+x2*weights[3] + bias[1] "
      ],
      "execution_count": null,
      "outputs": []
    },
    {
      "cell_type": "code",
      "metadata": {
        "id": "G2ZLwhVZcSsu",
        "colab_type": "code",
        "colab": {}
      },
      "source": [
        "#Introducing non-linearity with a signmoid function.\n",
        "a_11 = 1.0 / (1.0 + np.exp(-z11))\n",
        "a_12 = 1.0 / (1.0 + np.exp(-z12))"
      ],
      "execution_count": null,
      "outputs": []
    },
    {
      "cell_type": "code",
      "metadata": {
        "id": "AeGdG1Gtci0M",
        "colab_type": "code",
        "colab": {}
      },
      "source": [
        "z2 = a_11*weights[4]+a_12*weights[5] + bias[2]"
      ],
      "execution_count": null,
      "outputs": []
    },
    {
      "cell_type": "code",
      "metadata": {
        "id": "lKXCCpRjc5RS",
        "colab_type": "code",
        "colab": {
          "base_uri": "https://localhost:8080/",
          "height": 35
        },
        "outputId": "d664c1bc-0a5f-41a6-dfba-ce69282cd7fb"
      },
      "source": [
        "#output of the resulting\n",
        "z2 "
      ],
      "execution_count": null,
      "outputs": [
        {
          "output_type": "execute_result",
          "data": {
            "text/plain": [
              "2.040413815849498"
            ]
          },
          "metadata": {
            "tags": []
          },
          "execution_count": 6
        }
      ]
    },
    {
      "cell_type": "markdown",
      "metadata": {
        "id": "ewRtQ1NZeOLm",
        "colab_type": "text"
      },
      "source": [
        "#Lets create a bigger network"
      ]
    },
    {
      "cell_type": "code",
      "metadata": {
        "id": "5pxPQNs_eNeO",
        "colab_type": "code",
        "colab": {}
      },
      "source": [
        "#First define the structure of the network\n",
        "n=2   #number of inputs\n",
        "num_hidden_layers=2 #number of hidden layers\n",
        "m = [2,2] #number of nodes in each hidden layer\n",
        "num_nodes_output = 1 #number of output nodes"
      ],
      "execution_count": null,
      "outputs": []
    },
    {
      "cell_type": "code",
      "metadata": {
        "id": "fmWen1GLhiNq",
        "colab_type": "code",
        "colab": {}
      },
      "source": [
        "def initialize_network(num_of_inputs, num_hidden_layers, m, num_nodes_output):\n",
        " num_nodes_previous = num_of_inputs #number of nodes in previous layer\n",
        " network = {}\n",
        "\n",
        " for layer in range(num_hidden_layers+1):\n",
        "   #assigning name to each layer\n",
        "   if layer == num_hidden_layers:\n",
        "      layer_name = 'output_layer'\n",
        "      num_nodes = num_nodes_output\n",
        "   else:\n",
        "     layer_name = 'layer_{}'.format(layer + 1)   #layer+1 because we want the number of layers to start from 1. \n",
        "     num_nodes = m[layer]   \n",
        "  \n",
        "  #update the weights and biases associated with each layer\n",
        "   network[layer_name] = {}\n",
        "   for node in range(num_nodes):\n",
        "    node_name = 'node_{}'.format(node+1)\n",
        "    network[layer_name][node_name] = {\n",
        "      'weights': np.around(np.random.uniform(size = num_nodes_previous),decimals = 2),\n",
        "      'bias': np.around(np.random.uniform(size = 1),decimals = 2)   #one bias each node\n",
        "    }\n",
        "   num_nodes_previous = num_nodes\n",
        "\n",
        " return network\n"
      ],
      "execution_count": null,
      "outputs": []
    },
    {
      "cell_type": "markdown",
      "metadata": {
        "id": "DMUT5Hx6ry4l",
        "colab_type": "text"
      },
      "source": [
        "###Use the initialize_network function to create a network that:\n",
        "1) takes 5 inputs\n",
        "2) has three hidden layers\n",
        "3) has 3 nodes in the first layer, 2 nodes in the second layer, and 3 nodes \n",
        "4) in the third layer\n",
        "5) has 1 node in the output layer\n"
      ]
    },
    {
      "cell_type": "code",
      "metadata": {
        "id": "ZWL_2S1BiLEo",
        "colab_type": "code",
        "colab": {}
      },
      "source": [
        "New_network = initialize_network(5, 3, [3,2,3], 1)\n",
        "#New_network = pd.DataFrame(New_network)\n",
        "#New_network   #showed as a DF"
      ],
      "execution_count": null,
      "outputs": []
    },
    {
      "cell_type": "code",
      "metadata": {
        "id": "qBXzBG3qtFGx",
        "colab_type": "code",
        "colab": {}
      },
      "source": [
        "def compute_weighted_sum(inputs, weights, bias):\n",
        " return np.sum(inputs*weights)+bias"
      ],
      "execution_count": null,
      "outputs": []
    },
    {
      "cell_type": "code",
      "metadata": {
        "id": "y3eknxaPO5jH",
        "colab_type": "code",
        "colab": {}
      },
      "source": [
        "def node_activation(weighted_sum):\n",
        "  return 1.0 / (1.0 + np.exp(-1 * weighted_sum))\n"
      ],
      "execution_count": null,
      "outputs": []
    },
    {
      "cell_type": "markdown",
      "metadata": {
        "id": "-QlXXxRwIadz",
        "colab_type": "text"
      },
      "source": [
        "###Coding the feedforward function"
      ]
    },
    {
      "cell_type": "code",
      "metadata": {
        "id": "lr6NYLFjIZN0",
        "colab_type": "code",
        "colab": {}
      },
      "source": [
        "def forward_prop(network,inputs):\n",
        "\n",
        " layer_inputs = list(inputs)  #start with the input layer as the input to the first hidden layer\n",
        " \n",
        " for layer in network:\n",
        "    layer_data = network[layer]\n",
        "    layer_outputs=[]                #empty the layer_outputs after every iteration of the layer\n",
        "    for layer_node in layer_data:\n",
        "      node_data = layer_data[layer_node]\n",
        "      node_output = node_activation(compute_weighted_sum(layer_inputs, node_data['weights'], node_data['bias']))  #weighted sum computation\n",
        "      #print(layer_node, node_output)                                        #to check the layer and the node outputs\n",
        "      layer_outputs.append(np.around(node_output, decimals=4))\n",
        "    if layer != 'output_layer':\n",
        "      print('The outputs of the nodes in hidden layer number {} is {}'.format(layer.split('_')[1], layer_outputs))  \n",
        "    layer_inputs = layer_outputs   #set output of this layer to input to other layer\n",
        "\n",
        "\n",
        " network_predictions = layer_outputs\n",
        " return network_predictions   "
      ],
      "execution_count": null,
      "outputs": []
    },
    {
      "cell_type": "code",
      "metadata": {
        "id": "LoErFljeOkDW",
        "colab_type": "code",
        "colab": {
          "base_uri": "https://localhost:8080/",
          "height": 87
        },
        "outputId": "2fba02d2-875d-4496-8010-e12034788eec"
      },
      "source": [
        "my_network = initialize_network(5, 3, [2, 3, 2], 3)\n",
        "inputs = np.around(np.random.uniform(size=5), decimals=2)\n",
        "predictions = forward_prop(my_network, inputs)\n",
        "print('The predicted values by the network for the given input are {}'.format(predictions))"
      ],
      "execution_count": null,
      "outputs": [
        {
          "output_type": "stream",
          "text": [
            "The outputs of the nodes in hidden layer number 1 is [array([0.8897]), array([0.7436])]\n",
            "The outputs of the nodes in hidden layer number 2 is [array([0.9241]), array([0.8426]), array([0.8384])]\n",
            "The outputs of the nodes in hidden layer number 3 is [array([0.981]), array([0.9819])]\n",
            "The predicted values by the network for the given input are [array([0.8969]), array([0.9498]), array([0.9337])]\n"
          ],
          "name": "stdout"
        }
      ]
    }
  ]
}